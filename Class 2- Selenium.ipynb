{
 "cells": [
  {
   "cell_type": "code",
   "execution_count": 3,
   "metadata": {},
   "outputs": [],
   "source": [
    "from selenium import webdriver\n",
    "from selenium.webdriver.common.keys import Keys"
   ]
  },
  {
   "cell_type": "code",
   "execution_count": 4,
   "metadata": {},
   "outputs": [],
   "source": [
    "#search on google, click the search button.\n",
    "\n",
    "driver = webdriver.Chrome(executable_path='C:/Users/Fatimah/Downloads/chromedriver_win32/chromedriver.exe')\n",
    "driver.get(\"https://www.google.com\")\n",
    "driver.find_element_by_name(\"q\").send_keys(\"Philadelphia weather\")\n",
    "driver.find_element_by_name(\"btnK\").click()"
   ]
  },
  {
   "cell_type": "code",
   "execution_count": 30,
   "metadata": {},
   "outputs": [],
   "source": [
    "#search on google, press \"Enter\" to execute a search.\n",
    "\n",
    "driver = webdriver.Chrome(executable_path='C:/Users/Fatimah/Downloads/chromedriver_win32/chromedriver.exe')\n",
    "driver.get(\"https://www.google.com\")\n",
    "driver.find_element_by_name(\"q\").send_keys(\"what is the time?\", Keys.ENTER)"
   ]
  },
  {
   "cell_type": "code",
   "execution_count": 32,
   "metadata": {},
   "outputs": [],
   "source": [
    "#open a new tab (goes to google, opens new tab, goes to duckduckgo on the new tab)\n",
    "\n",
    "driver = webdriver.Chrome(executable_path='C:/Users/Fatimah/Downloads/chromedriver_win32/chromedriver.exe')\n",
    "driver.get(\"https://www.google.com\")\n",
    "driver.execute_script(\"window.open('');\")\n",
    "driver.switch_to.window(driver.window_handles[1])\n",
    "driver.get(\"https://www.duckduckgo.com\")"
   ]
  },
  {
   "cell_type": "code",
   "execution_count": 34,
   "metadata": {},
   "outputs": [],
   "source": []
  },
  {
   "cell_type": "code",
   "execution_count": null,
   "metadata": {},
   "outputs": [],
   "source": []
  }
 ],
 "metadata": {
  "kernelspec": {
   "display_name": "Python 3",
   "language": "python",
   "name": "python3"
  },
  "language_info": {
   "codemirror_mode": {
    "name": "ipython",
    "version": 3
   },
   "file_extension": ".py",
   "mimetype": "text/x-python",
   "name": "python",
   "nbconvert_exporter": "python",
   "pygments_lexer": "ipython3",
   "version": "3.7.6"
  }
 },
 "nbformat": 4,
 "nbformat_minor": 4
}
