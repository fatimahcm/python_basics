{
 "cells": [
  {
   "cell_type": "code",
   "execution_count": 67,
   "metadata": {},
   "outputs": [
    {
     "name": "stdout",
     "output_type": "stream",
     "text": [
      "3\n",
      "5\n",
      "7\n",
      "9\n",
      "11\n",
      "13\n"
     ]
    }
   ],
   "source": [
    "sum_1 = addition (1,2)\n",
    "sum_2 = addition (2,3)\n",
    "sum_3 = addition (3,4)\n",
    "sum_4 = addition (4,5)\n",
    "sum_5 = addition (5,6)\n",
    "sum_6 = addition (6,7)\n",
    "print (sum_1)\n",
    "print (sum_2)\n",
    "print (sum_3)\n",
    "print (sum_4)\n",
    "print (sum_5)\n",
    "print (sum_6)"
   ]
  },
  {
   "cell_type": "code",
   "execution_count": 66,
   "metadata": {},
   "outputs": [
    {
     "name": "stdout",
     "output_type": "stream",
     "text": [
      "3\n",
      "5\n",
      "7\n",
      "9\n",
      "11\n",
      "13\n"
     ]
    }
   ],
   "source": [
    "def a (x,y):\n",
    "    z = x+y\n",
    "    return z\n",
    "\n",
    "print (a(1,2))\n",
    "print (a(2,3))\n",
    "print (a(3,4))\n",
    "print (a(4,5))\n",
    "print (a(5,6))\n",
    "print (a(6,7))"
   ]
  },
  {
   "cell_type": "code",
   "execution_count": 85,
   "metadata": {},
   "outputs": [
    {
     "data": {
      "text/plain": [
       "5"
      ]
     },
     "execution_count": 85,
     "metadata": {},
     "output_type": "execute_result"
    }
   ],
   "source": [
    "def a (x,y):\n",
    "    z = x+y\n",
    "    return z\n",
    "    print (a)\n",
    "    \n",
    "a (1,2)\n",
    "a (2,3)"
   ]
  },
  {
   "cell_type": "code",
   "execution_count": 68,
   "metadata": {},
   "outputs": [
    {
     "name": "stdout",
     "output_type": "stream",
     "text": [
      "3\n"
     ]
    }
   ],
   "source": [
    "print (addition(1,2))"
   ]
  },
  {
   "cell_type": "markdown",
   "metadata": {},
   "source": [
    "# Pizza\n",
    "####\n",
    "10\" is $6\n",
    "12\" is $8\n",
    "14\" is $10\n",
    "16\" is $12"
   ]
  },
  {
   "cell_type": "code",
   "execution_count": 113,
   "metadata": {},
   "outputs": [
    {
     "name": "stdout",
     "output_type": "stream",
     "text": [
      "52.333333333333336\n",
      "56.519999999999996\n",
      "61.544000000000004\n",
      "66.98666666666666\n"
     ]
    }
   ],
   "source": [
    "pizza_10 = 3.14 * 10 * 10 / 6 \n",
    "pizza_12 = 3.14 * 12 * 12 / 8\n",
    "pizza_14 = 3.14 * 14 * 14 / 10\n",
    "pizza_16 = 3.14 * 16 * 16 / 12\n",
    "\n",
    "print (pizza_10)\n",
    "print (pizza_12)\n",
    "print (pizza_14)\n",
    "print (pizza_16)"
   ]
  },
  {
   "cell_type": "code",
   "execution_count": 115,
   "metadata": {},
   "outputs": [
    {
     "name": "stdout",
     "output_type": "stream",
     "text": [
      "1.6666666666666667\n",
      "52.333333333333336\n",
      "56.519999999999996\n",
      "61.544000000000004\n",
      "66.98666666666666\n"
     ]
    }
   ],
   "source": [
    "def pizza(radius):\n",
    "    ar= 3.14 * radius * radius\n",
    "    return ar\n",
    "\n",
    "print (cp(10,6))\n",
    "\n",
    "print(pizza (10)/6)\n",
    "print(pizza (12)/8)\n",
    "print(pizza (14)/10)\n",
    "print(pizza (16)/12)"
   ]
  },
  {
   "cell_type": "code",
   "execution_count": 102,
   "metadata": {},
   "outputs": [
    {
     "name": "stdout",
     "output_type": "stream",
     "text": [
      "314.0\n",
      "452.15999999999997\n",
      "615.44\n",
      "803.84\n"
     ]
    }
   ],
   "source": [
    "print(pizza (10))\n",
    "print(pizza (12))\n",
    "print(pizza (14))\n",
    "print(pizza (16))"
   ]
  },
  {
   "cell_type": "code",
   "execution_count": 119,
   "metadata": {},
   "outputs": [
    {
     "name": "stdout",
     "output_type": "stream",
     "text": [
      "52.333333333333336\n"
     ]
    }
   ],
   "source": [
    "def p(radius,cost):\n",
    "    rc = 3.14* radius * radius /cost\n",
    "    return rc \n",
    "\n",
    "print(p(10,6))"
   ]
  },
  {
   "cell_type": "code",
   "execution_count": null,
   "metadata": {},
   "outputs": [],
   "source": []
  }
 ],
 "metadata": {
  "kernelspec": {
   "display_name": "Python 3",
   "language": "python",
   "name": "python3"
  },
  "language_info": {
   "codemirror_mode": {
    "name": "ipython",
    "version": 3
   },
   "file_extension": ".py",
   "mimetype": "text/x-python",
   "name": "python",
   "nbconvert_exporter": "python",
   "pygments_lexer": "ipython3",
   "version": "3.7.6"
  }
 },
 "nbformat": 4,
 "nbformat_minor": 4
}
