{
 "cells": [
  {
   "cell_type": "code",
   "execution_count": 10,
   "metadata": {},
   "outputs": [
    {
     "name": "stdout",
     "output_type": "stream",
     "text": [
      "{\n",
      "  \"id\": 5358091925192704,\n",
      "  \"weather_state_name\": \"Light Cloud\",\n",
      "  \"weather_state_abbr\": \"lc\",\n",
      "  \"wind_direction_compass\": \"E\",\n",
      "  \"created\": \"2020-06-26T16:03:37.488091Z\",\n",
      "  \"applicable_date\": \"2020-06-26\",\n",
      "  \"min_temp\": 28.445,\n",
      "  \"max_temp\": 31.42,\n",
      "  \"the_temp\": 30.85,\n",
      "  \"wind_speed\": 8.809460601264616,\n",
      "  \"wind_direction\": 87.0,\n",
      "  \"air_pressure\": 1022.0,\n",
      "  \"humidity\": 69,\n",
      "  \"visibility\": 14.106679491768075,\n",
      "  \"predictability\": 70\n",
      "}\n"
     ]
    }
   ],
   "source": [
    "import json\n",
    "stuff = {'id': 5358091925192704, 'weather_state_name': 'Light Cloud', 'weather_state_abbr': 'lc', 'wind_direction_compass': 'E', 'created': '2020-06-26T16:03:37.488091Z', 'applicable_date': '2020-06-26', 'min_temp': 28.445, 'max_temp': 31.42, 'the_temp': 30.85, 'wind_speed': 8.809460601264616, 'wind_direction': 87.0, 'air_pressure': 1022.0, 'humidity': 69, 'visibility': 14.106679491768075, 'predictability': 70}\n",
    "print (json.dumps(stuff, indent=2))"
   ]
  },
  {
   "cell_type": "code",
   "execution_count": null,
   "metadata": {},
   "outputs": [],
   "source": []
  }
 ],
 "metadata": {
  "kernelspec": {
   "display_name": "Python 3",
   "language": "python",
   "name": "python3"
  },
  "language_info": {
   "codemirror_mode": {
    "name": "ipython",
    "version": 3
   },
   "file_extension": ".py",
   "mimetype": "text/x-python",
   "name": "python",
   "nbconvert_exporter": "python",
   "pygments_lexer": "ipython3",
   "version": "3.7.6"
  }
 },
 "nbformat": 4,
 "nbformat_minor": 4
}
