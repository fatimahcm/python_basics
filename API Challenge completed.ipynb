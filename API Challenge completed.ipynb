{
 "cells": [
  {
   "cell_type": "markdown",
   "metadata": {},
   "source": [
    "## Assignment 1\n",
    "###### write code to parse following \"url\" and print the following:\n",
    "no. of people on ISS: 10\n",
    "<br>name of people on the ISS:<br>\n",
    "&nbsp;&nbsp;&nbsp;&nbsp;&nbsp;&nbsp;&nbsp;&nbsp;Chris Cassidy<br>\n",
    "&nbsp;&nbsp;&nbsp;&nbsp;&nbsp;&nbsp;&nbsp;&nbsp;Anatoly Ivanishin<br>\n",
    "&nbsp;&nbsp;&nbsp;&nbsp;&nbsp;&nbsp;&nbsp;&nbsp;Ivan Vagner<br>\n",
    "&nbsp;&nbsp;&nbsp;&nbsp;&nbsp;&nbsp;&nbsp;&nbsp;Doug Hurley<br>\n",
    "&nbsp;&nbsp;&nbsp;&nbsp;&nbsp;&nbsp;&nbsp;&nbsp;Bob Behnkenno"
   ]
  },
  {
   "cell_type": "code",
   "execution_count": 81,
   "metadata": {},
   "outputs": [],
   "source": [
    "url = \"http://api.open-notify.org/astros.json\""
   ]
  },
  {
   "cell_type": "code",
   "execution_count": 82,
   "metadata": {},
   "outputs": [],
   "source": [
    "import requests\n",
    "response = requests.get(\"http://api.open-notify.org/astros.json\")"
   ]
  },
  {
   "cell_type": "markdown",
   "metadata": {},
   "source": [
    "Aileen's code:"
   ]
  },
  {
   "cell_type": "code",
   "execution_count": 91,
   "metadata": {},
   "outputs": [
    {
     "name": "stdout",
     "output_type": "stream",
     "text": [
      "b'{\"message\": \"success\", \"number\": 5, \"people\": [{\"craft\": \"ISS\", \"name\": \"Chris Cassidy\"}, {\"craft\": \"ISS\", \"name\": \"Anatoly Ivanishin\"}, {\"craft\": \"ISS\", \"name\": \"Ivan Vagner\"}, {\"craft\": \"ISS\", \"name\": \"Doug Hurley\"}, {\"craft\": \"ISS\", \"name\": \"Bob Behnken\"}]}'\n"
     ]
    }
   ],
   "source": [
    "#the \"b\" at the start indicates it's a byte\n",
    "print(response.content)"
   ]
  },
  {
   "cell_type": "code",
   "execution_count": 84,
   "metadata": {},
   "outputs": [
    {
     "name": "stdout",
     "output_type": "stream",
     "text": [
      "Number of people on the ISS:  5\n",
      "Name of people on the ISS:\n",
      "Chris Cassidy\n",
      "Anatoly Ivanishin\n",
      "Ivan Vagner\n",
      "Doug Hurley\n",
      "Bob Behnken\n"
     ]
    }
   ],
   "source": [
    "import json\n",
    "\n",
    "content= response.content\n",
    "found_dict= json.loads((content.decode('utf-8')))\n",
    "#found_dict is used to convert the content from a byte to dictionary format\n",
    "\n",
    "print (\"Number of people on the ISS: \", len(found_dict[\"people\"]))\n",
    "print (\"Name of people on the ISS:\")\n",
    "\n",
    "for people in found_dict[\"people\"]:\n",
    "    print(people[\"name\"])"
   ]
  },
  {
   "cell_type": "markdown",
   "metadata": {},
   "source": [
    "Alina's shorter form:"
   ]
  },
  {
   "cell_type": "code",
   "execution_count": 85,
   "metadata": {},
   "outputs": [
    {
     "data": {
      "text/plain": [
       "requests.models.Response"
      ]
     },
     "execution_count": 85,
     "metadata": {},
     "output_type": "execute_result"
    }
   ],
   "source": [
    "type(response)"
   ]
  },
  {
   "cell_type": "code",
   "execution_count": 86,
   "metadata": {},
   "outputs": [
    {
     "data": {
      "text/plain": [
       "bytes"
      ]
     },
     "execution_count": 86,
     "metadata": {},
     "output_type": "execute_result"
    }
   ],
   "source": [
    "#this tells you that it reads content as bytes\n",
    "type(response.content)"
   ]
  },
  {
   "cell_type": "code",
   "execution_count": 87,
   "metadata": {},
   "outputs": [
    {
     "data": {
      "text/plain": [
       "method"
      ]
     },
     "execution_count": 87,
     "metadata": {},
     "output_type": "execute_result"
    }
   ],
   "source": [
    "type(response.json)"
   ]
  },
  {
   "cell_type": "code",
   "execution_count": 88,
   "metadata": {},
   "outputs": [
    {
     "data": {
      "text/plain": [
       "dict"
      ]
     },
     "execution_count": 88,
     "metadata": {},
     "output_type": "execute_result"
    }
   ],
   "source": [
    "#note the difference in output from above\n",
    "#json() with the brackets like that has the computer read it as a dictionary instead of a byte\n",
    "type(response.json())"
   ]
  },
  {
   "cell_type": "code",
   "execution_count": 89,
   "metadata": {},
   "outputs": [
    {
     "name": "stdout",
     "output_type": "stream",
     "text": [
      "b'{\"message\": \"success\", \"number\": 5, \"people\": [{\"craft\": \"ISS\", \"name\": \"Chris Cassidy\"}, {\"craft\": \"ISS\", \"name\": \"Anatoly Ivanishin\"}, {\"craft\": \"ISS\", \"name\": \"Ivan Vagner\"}, {\"craft\": \"ISS\", \"name\": \"Doug Hurley\"}, {\"craft\": \"ISS\", \"name\": \"Bob Behnken\"}]}'\n",
      "\n",
      "{'message': 'success', 'number': 5, 'people': [{'craft': 'ISS', 'name': 'Chris Cassidy'}, {'craft': 'ISS', 'name': 'Anatoly Ivanishin'}, {'craft': 'ISS', 'name': 'Ivan Vagner'}, {'craft': 'ISS', 'name': 'Doug Hurley'}, {'craft': 'ISS', 'name': 'Bob Behnken'}]}\n"
     ]
    }
   ],
   "source": [
    "#So again, this prints as bytes\n",
    "print(response.content)\n",
    "\n",
    "print()\n",
    "#and this is formatted as a dictionary, not a byte, unlike \n",
    "print(response.json())"
   ]
  },
  {
   "cell_type": "code",
   "execution_count": 90,
   "metadata": {},
   "outputs": [
    {
     "name": "stdout",
     "output_type": "stream",
     "text": [
      "Number of people on the ISS:  5\n",
      "Name of people on the ISS:\n",
      "Chris Cassidy\n",
      "Anatoly Ivanishin\n",
      "Ivan Vagner\n",
      "Doug Hurley\n",
      "Bob Behnken\n"
     ]
    }
   ],
   "source": [
    "#we can use json instead of having to define found_dict\n",
    "j= response.json()\n",
    "print (\"Number of people on the ISS: \", len(j[\"people\"]))\n",
    "print (\"Name of people on the ISS:\")\n",
    "\n",
    "for people in j[\"people\"]:\n",
    "    print(people[\"name\"])"
   ]
  },
  {
   "cell_type": "markdown",
   "metadata": {},
   "source": [
    "## Assignment 2\n",
    "###### write code to parse following \"url\" using a function:"
   ]
  },
  {
   "cell_type": "markdown",
   "metadata": {},
   "source": [
    "#### Input"
   ]
  },
  {
   "cell_type": "code",
   "execution_count": 46,
   "metadata": {},
   "outputs": [],
   "source": [
    "x = {'message': 'success', 'number': 5, 'people': [{'craft': 'ISS', 'name': 'Chris Cassidy'}, {'craft': 'ISS', 'name': 'Anatoly Ivanishin'}, {'craft': 'ISS', 'name': 'Ivan Vagner'}, {'craft': 'ISS', 'name': 'Doug Hurley'}, {'craft': 'ISS', 'name': 'Bob Behnken'}]}\n",
    "y = {'message': 'success', 'number': 3, 'people': [{'craft': 'ISS', 'name': 'Lala Bulala'}, {'craft': 'ISS', 'name': 'Pucha Kutti'}, {'craft': 'ISS', 'name': 'Frosty Murali'}]}"
   ]
  },
  {
   "cell_type": "markdown",
   "metadata": {},
   "source": [
    "#### Output for x\n",
    "no. of people on ISS: 5<br>name of people on the ISS:<br>\n",
    "&nbsp;&nbsp;&nbsp;&nbsp;&nbsp;&nbsp;&nbsp;&nbsp;Chris Cassidy<br>\n",
    "&nbsp;&nbsp;&nbsp;&nbsp;&nbsp;&nbsp;&nbsp;&nbsp;Anatoly Ivanishin<br>\n",
    "&nbsp;&nbsp;&nbsp;&nbsp;&nbsp;&nbsp;&nbsp;&nbsp;Ivan Vagner<br>\n",
    "&nbsp;&nbsp;&nbsp;&nbsp;&nbsp;&nbsp;&nbsp;&nbsp;Doug Hurley<br>\n",
    "&nbsp;&nbsp;&nbsp;&nbsp;&nbsp;&nbsp;&nbsp;&nbsp;Bob Behnkenno\n",
    "#### Output for y\n",
    "no. of people on ISS: 3<br>name of people on the ISS:<br>\n",
    "&nbsp;&nbsp;&nbsp;&nbsp;&nbsp;&nbsp;&nbsp;&nbsp;Lala Bulala<br>\n",
    "&nbsp;&nbsp;&nbsp;&nbsp;&nbsp;&nbsp;&nbsp;&nbsp;Pucha Kutti<br>\n",
    "&nbsp;&nbsp;&nbsp;&nbsp;&nbsp;&nbsp;&nbsp;&nbsp;Frosty Murali"
   ]
  },
  {
   "cell_type": "code",
   "execution_count": 63,
   "metadata": {},
   "outputs": [
    {
     "name": "stdout",
     "output_type": "stream",
     "text": [
      "no. of people on ISS:  5 \n",
      "ame of people on the ISS:\n",
      "Chris Cassidy\n",
      "Anatoly Ivanishin\n",
      "Ivan Vagner\n",
      "Doug Hurley\n",
      "Bob Behnken\n",
      "\n",
      "no. of people on ISS:  3 \n",
      "ame of people on the ISS:\n",
      "Lala Bulala\n",
      "Pucha Kutti\n",
      "Frosty Murali\n"
     ]
    }
   ],
   "source": [
    "#what's defined in slicer is a parser\n",
    "def slicer(found_dict):\n",
    "    print (\"no. of people on ISS: \", len(found_dict[\"people\"]), \"\\name of people on the ISS:\")\n",
    "    for people in found_dict[\"people\"]:\n",
    "        print(people[\"name\"])\n",
    "\n",
    "slicer(response.json())\n",
    "print()\n",
    "slicer(y)"
   ]
  }
 ],
 "metadata": {
  "kernelspec": {
   "display_name": "Python 3",
   "language": "python",
   "name": "python3"
  },
  "language_info": {
   "codemirror_mode": {
    "name": "ipython",
    "version": 3
   },
   "file_extension": ".py",
   "mimetype": "text/x-python",
   "name": "python",
   "nbconvert_exporter": "python",
   "pygments_lexer": "ipython3",
   "version": "3.7.6"
  }
 },
 "nbformat": 4,
 "nbformat_minor": 4
}
