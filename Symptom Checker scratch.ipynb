{
 "cells": [
  {
   "cell_type": "code",
   "execution_count": null,
   "metadata": {},
   "outputs": [],
   "source": [
    "import requests\n",
    "\n",
    "url = \"https://priaid-symptom-checker-v1.p.rapidapi.com/symptoms\"\n",
    "\n",
    "querystring = {\"format\":\"json\",\"language\":\"en-gb\"}\n",
    "\n",
    "headers = {\n",
    "    'x-rapidapi-host': \"priaid-symptom-checker-v1.p.rapidapi.com\",\n",
    "    'x-rapidapi-key': \"SIGN-UP-FOR-KEY\"\n",
    "    }\n",
    "\n",
    "response = requests.request(\"GET\", url, headers=headers, params=querystring)\n",
    "\n",
    "print(response.text)"
   ]
  }
 ],
 "metadata": {
  "kernelspec": {
   "display_name": "Python 3",
   "language": "python",
   "name": "python3"
  },
  "language_info": {
   "codemirror_mode": {
    "name": "ipython",
    "version": 3
   },
   "file_extension": ".py",
   "mimetype": "text/x-python",
   "name": "python",
   "nbconvert_exporter": "python",
   "pygments_lexer": "ipython3",
   "version": "3.7.6"
  }
 },
 "nbformat": 4,
 "nbformat_minor": 4
}
