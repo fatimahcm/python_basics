{
 "cells": [
  {
   "cell_type": "code",
   "execution_count": 5,
   "metadata": {},
   "outputs": [],
   "source": [
    "from selenium import webdriver\n",
    "from selenium.webdriver.common.keys import Keys\n",
    "import time"
   ]
  },
  {
   "cell_type": "code",
   "execution_count": 6,
   "metadata": {},
   "outputs": [],
   "source": [
    "driver = webdriver.Chrome(executable_path='C:/Users/Fatimah/Downloads/chromedriver_win32/chromedriver.exe')\n",
    "driver.get (\"http://www.neopets.com/login/\")"
   ]
  },
  {
   "cell_type": "code",
   "execution_count": null,
   "metadata": {},
   "outputs": [],
   "source": [
    "#Used xPath for username & password, replaced the double \"\" around the login with single ''.\n",
    "def neopets_login():\n",
    "    driver.find_element_by_xpath(\"//*[@id='login']/div/div[1]/div[2]/input\").send_keys(\"pearlmoon96\")\n",
    "    time.sleep(7)\n",
    "    driver.find_element_by_xpath(\"//*[@id='login']/div/div[2]/div[2]/input\").send_keys(\"c1a55try\")\n",
    "    time.sleep(5)\n",
    "    driver.find_element_by_xpath(\"//*[@id='login']/input[2]\").click()"
   ]
  },
  {
   "cell_type": "code",
   "execution_count": null,
   "metadata": {},
   "outputs": [],
   "source": []
  },
  {
   "cell_type": "code",
   "execution_count": 7,
   "metadata": {},
   "outputs": [],
   "source": [
    "def neopets_login():\n",
    "    driver.find_element_by_name(\"username\").send_keys(\"pearlmoon96\")\n",
    "    driver.find_element_by_name(\"password\").send_keys(\"c1a55try\")"
   ]
  }
 ],
 "metadata": {
  "kernelspec": {
   "display_name": "Python 3",
   "language": "python",
   "name": "python3"
  },
  "language_info": {
   "codemirror_mode": {
    "name": "ipython",
    "version": 3
   },
   "file_extension": ".py",
   "mimetype": "text/x-python",
   "name": "python",
   "nbconvert_exporter": "python",
   "pygments_lexer": "ipython3",
   "version": "3.7.6"
  }
 },
 "nbformat": 4,
 "nbformat_minor": 4
}
