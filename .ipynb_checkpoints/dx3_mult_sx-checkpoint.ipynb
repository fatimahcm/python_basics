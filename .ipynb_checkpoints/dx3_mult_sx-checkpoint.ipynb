{
 "cells": [
  {
   "cell_type": "code",
   "execution_count": 16,
   "metadata": {},
   "outputs": [
    {
     "name": "stdout",
     "output_type": "stream",
     "text": [
      "('sauce', 'crust', 'toppings')\n"
     ]
    }
   ],
   "source": [
    "def pizza(*args):\n",
    "    print(args)\n",
    "    \n",
    "pizza(\"sauce\", \"crust\", \"toppings\")"
   ]
  },
  {
   "cell_type": "code",
   "execution_count": 15,
   "metadata": {},
   "outputs": [
    {
     "name": "stdout",
     "output_type": "stream",
     "text": [
      "Abdominal pain\n",
      "Abdominal guarding\n",
      "Bloody stool\n"
     ]
    }
   ],
   "source": [
    "def health(*args):\n",
    "    list_of_sx = []\n",
    "    for i in args:\n",
    "        print(i)\n",
    "        list_of_sx.append(i)\n",
    "    return(list_of_sx)\n",
    "    \n",
    "z= health(\"Abdominal pain,\", \"Abdominal guarding,\", \"Bloody stool,\")"
   ]
  },
  {
   "cell_type": "code",
   "execution_count": 22,
   "metadata": {},
   "outputs": [
    {
     "name": "stdout",
     "output_type": "stream",
     "text": [
      "Abdominal pain\n",
      "Abdominal guarding\n",
      "Bloody cough\n"
     ]
    }
   ],
   "source": [
    "import requests\n",
    "import argparse\n",
    "\n",
    "url = \"https://priaid-symptom-checker-v1.p.rapidapi.com/symptoms\"\n",
    "querystring = {\"format\":\"json\",\"language\":\"en-gb\"}\n",
    "headers = {\n",
    "    'x-rapidapi-host': \"priaid-symptom-checker-v1.p.rapidapi.com\",\n",
    "    'x-rapidapi-key': \"e9e82ff66bmsh2353f291af944f0p1f8063jsn60d6c57e9d77\"\n",
    "    }\n",
    "#headers are to do authentication\n",
    "\n",
    "response = requests.request(\"GET\", url, headers=headers, params=querystring)\n",
    "#whatever response we get from get request, we assign as response.\n",
    "\n",
    "# sx list\n",
    "sx_list = response.json()\n",
    "\n",
    "def health(*args):\n",
    "    list_of_sx = []\n",
    "    for i in args:\n",
    "        print(i)\n",
    "        list_of_sx.append(i)\n",
    "    return(list_of_sx)\n",
    "    \n",
    "z= health(\"Abdominal pain\", \"Abdominal guarding\", \"Bloody cough\")\n",
    "\n",
    "def find_sxcode(sx_list,z):\n",
    "    for sx in sx_list:\n",
    "        if sx [\"Name\"]==z:\n",
    "            #print(\"Found code: \", sx[\"ID\"])\n",
    "            return sx[\"ID\"]\n"
   ]
  },
  {
   "cell_type": "code",
   "execution_count": 13,
   "metadata": {},
   "outputs": [
    {
     "name": "stdout",
     "output_type": "stream",
     "text": [
      "10\n",
      "188\n",
      "233\n"
     ]
    }
   ],
   "source": [
    "for i in z:\n",
    "    print (find_sxcode(sx_list, i))"
   ]
  },
  {
   "cell_type": "raw",
   "metadata": {},
   "source": []
  },
  {
   "cell_type": "code",
   "execution_count": null,
   "metadata": {},
   "outputs": [],
   "source": [
    "url = \"https://priaid-symptom-checker-v1.p.rapidapi.com/diagnosis\"\n",
    "\n",
    "querystring = {\"symptoms\": \"[{},{}]\".format(args),\"gender\": \"Male\",\"year_of_birth\": \"1984\",\"language\":\"en-gb\"}\n",
    "\n",
    "headers = {\n",
    "    'x-rapidapi-host': \"priaid-symptom-checker-v1.p.rapidapi.com\",\n",
    "    'x-rapidapi-key': \"e9e82ff66bmsh2353f291af944f0p1f8063jsn60d6c57e9d77\"\n",
    "    }\n",
    "response = requests.request(\"GET\", url, headers=headers, params=querystring)\n",
    "\n",
    "u = response.json()\n",
    "for i in u:\n",
    "  print(i[\"Issue\"][\"Name\"])"
   ]
  }
 ],
 "metadata": {
  "kernelspec": {
   "display_name": "Python 3",
   "language": "python",
   "name": "python3"
  },
  "language_info": {
   "codemirror_mode": {
    "name": "ipython",
    "version": 3
   },
   "file_extension": ".py",
   "mimetype": "text/x-python",
   "name": "python",
   "nbconvert_exporter": "python",
   "pygments_lexer": "ipython3",
   "version": "3.7.6"
  }
 },
 "nbformat": 4,
 "nbformat_minor": 4
}
