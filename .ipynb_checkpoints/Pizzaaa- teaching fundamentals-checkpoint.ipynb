{
 "cells": [
  {
   "cell_type": "code",
   "execution_count": 67,
   "metadata": {},
   "outputs": [
    {
     "name": "stdout",
     "output_type": "stream",
     "text": [
      "3\n",
      "5\n",
      "7\n",
      "9\n",
      "11\n",
      "13\n"
     ]
    }
   ],
   "source": [
    "sum_1 = addition (1,2)\n",
    "sum_2 = addition (2,3)\n",
    "sum_3 = addition (3,4)\n",
    "sum_4 = addition (4,5)\n",
    "sum_5 = addition (5,6)\n",
    "sum_6 = addition (6,7)\n",
    "print (sum_1)\n",
    "print (sum_2)\n",
    "print (sum_3)\n",
    "print (sum_4)\n",
    "print (sum_5)\n",
    "print (sum_6)"
   ]
  },
  {
   "cell_type": "code",
   "execution_count": 66,
   "metadata": {},
   "outputs": [
    {
     "name": "stdout",
     "output_type": "stream",
     "text": [
      "3\n",
      "5\n",
      "7\n",
      "9\n",
      "11\n",
      "13\n"
     ]
    }
   ],
   "source": [
    "def a (x,y):\n",
    "    z = x+y\n",
    "    return z\n",
    "\n",
    "print (a(1,2))\n",
    "print (a(2,3))\n",
    "print (a(3,4))\n",
    "print (a(4,5))\n",
    "print (a(5,6))\n",
    "print (a(6,7))"
   ]
  },
  {
   "cell_type": "markdown",
   "metadata": {},
   "source": [
    "# Pizza"
   ]
  },
  {
   "cell_type": "markdown",
   "metadata": {},
   "source": [
    "Small 10\" is USD 6,\n",
    "Medium 12\" is USD 8,\n",
    "Large 14\" is USD 10,\n",
    "X-Large 16\" is USD 12,"
   ]
  },
  {
   "cell_type": "code",
   "execution_count": 31,
   "metadata": {},
   "outputs": [
    {
     "name": "stdout",
     "output_type": "stream",
     "text": [
      "52.333333333333336\n",
      "56.519999999999996\n",
      "61.544000000000004\n",
      "66.98666666666666\n"
     ]
    }
   ],
   "source": [
    "# \"Manually\" calculating the area of pizza, dividing by cost\n",
    "# pizza = 3.14 * r * r / cost\n",
    "pizza_10 = 3.14 * 10 * 10 / 6 \n",
    "pizza_12 = 3.14 * 12 * 12 / 8\n",
    "pizza_14 = 3.14 * 14 * 14 / 10\n",
    "pizza_16 = 3.14 * 16 * 16 / 12\n",
    "\n",
    "print (pizza_10)\n",
    "print (pizza_12)\n",
    "print (pizza_14)\n",
    "print (pizza_16)"
   ]
  },
  {
   "cell_type": "code",
   "execution_count": 20,
   "metadata": {},
   "outputs": [
    {
     "name": "stdout",
     "output_type": "stream",
     "text": [
      "Area of pizza sq inch\n",
      "314.0\n",
      "452.15999999999997\n",
      "615.44\n",
      "803.84\n",
      "\n",
      "Cost per dollar:\n",
      "52.333333333333336\n",
      "56.519999999999996\n",
      "61.544000000000004\n",
      "66.98666666666666\n"
     ]
    }
   ],
   "source": [
    "# def function- calculate pizza area.\n",
    "def pizza(radius):\n",
    "    ar= 3.14 * radius * radius\n",
    "    return ar\n",
    "\n",
    "# prints pizza area\n",
    "print (\"Area of pizza sq inch:\")\n",
    "print(pizza (10))\n",
    "print(pizza (12))\n",
    "print(pizza (14))\n",
    "print(pizza (16))\n",
    "\n",
    "print ()\n",
    "\n",
    "# calculate area/per dollar, print\n",
    "print (\"Cost per dollar:\")\n",
    "print(pizza (10)/6)\n",
    "print(pizza (12)/8)\n",
    "print(pizza (14)/10)\n",
    "print(pizza (16)/12)"
   ]
  },
  {
   "cell_type": "code",
   "execution_count": 26,
   "metadata": {},
   "outputs": [
    {
     "name": "stdout",
     "output_type": "stream",
     "text": [
      "Small:\n",
      "52.333333333333336\n",
      "52.333333333333336\n",
      "52.333333333333336\n",
      "\n",
      "Medium:\n",
      "56.519999999999996\n",
      "56.519999999999996\n",
      "\n",
      "Large:\n",
      "61.544000000000004\n"
     ]
    }
   ],
   "source": [
    "# function to automatically calculate area/cost\n",
    "# add print function to \"p\" to automatically print a value when I enter it.\n",
    "\n",
    "def p(radius,cost):\n",
    "    rc = 3.14* radius * radius /cost\n",
    "    print (rc)\n",
    "    return (rc)\n",
    "\n",
    "print (\"Small:\")\n",
    "p(10,6)\n",
    "print (p(10,6))\n",
    "# the above line prints twice, because \"p\" itself has a function to print rc. \n",
    "\n",
    "print ()\n",
    "print (\"Medium:\")\n",
    "med_cost= p(12,8)\n",
    "print (med_cost)\n",
    "# the above line (print med_cost) would get an output of \"None\" is the function p did not state to \"return rc\",  because no p value would have been given to \"med_cost=\"\n",
    "\n",
    "print ()\n",
    "print (\"Large:\")\n",
    "large_cost= p(14,10)\n",
    "# do not have to say \"print (blabla)\" again because the function p is already told to print the answer."
   ]
  },
  {
   "cell_type": "code",
   "execution_count": 32,
   "metadata": {},
   "outputs": [
    {
     "name": "stdout",
     "output_type": "stream",
     "text": [
      "52.333333333333336\n",
      "108.66666666666667\n"
     ]
    }
   ],
   "source": [
    "b= p(10,6)\n",
    "x= 2*b+4\n",
    "print (x)"
   ]
  }
 ],
 "metadata": {
  "kernelspec": {
   "display_name": "Python 3",
   "language": "python",
   "name": "python3"
  },
  "language_info": {
   "codemirror_mode": {
    "name": "ipython",
    "version": 3
   },
   "file_extension": ".py",
   "mimetype": "text/x-python",
   "name": "python",
   "nbconvert_exporter": "python",
   "pygments_lexer": "ipython3",
   "version": "3.7.6"
  }
 },
 "nbformat": 4,
 "nbformat_minor": 4
}
